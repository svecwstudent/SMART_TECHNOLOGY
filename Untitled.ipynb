{
 "cells": [
  {
   "cell_type": "code",
   "execution_count": 1,
   "id": "9c5df6fc-e1f3-4d11-a0d8-de474927f745",
   "metadata": {},
   "outputs": [],
   "source": [
    "import os\n",
    "import cv2\n",
    "import numpy as np\n",
    "import tensorflow as tf\n",
    "from tensorflow.keras.applications.resnet50 import ResNet50, preprocess_input\n",
    "from tensorflow.keras.models import Model\n",
    "from tensorflow.keras.layers import Dense, GlobalAveragePooling2D, Input\n",
    "from tensorflow.keras.preprocessing.image import ImageDataGenerator\n",
    "from sklearn.model_selection import train_test_split\n",
    "from sklearn.preprocessing import LabelEncoder\n"
   ]
  },
  {
   "cell_type": "code",
   "execution_count": 3,
   "id": "5544f1d7-6766-47e9-ba3f-6fb273cc5984",
   "metadata": {},
   "outputs": [],
   "source": [
    "# Constants\n",
    "IMAGE_SIZE = (224, 224)\n",
    "BATCH_SIZE = 32\n",
    "EPOCHS = 10\n",
    "\n",
    "# Directories\n",
    "DATASET_DIR = r'C:\\Users\\DELL\\Documents\\smart_vision_project\\IR_basedcount\\dataset'\n",
    "\n",
    "# Helper function to load images and labels\n",
    "def load_dataset(dataset_dir):\n",
    "    images = []\n",
    "    labels = []\n",
    "    for filename in os.listdir(dataset_dir):\n",
    "        if filename.endswith('.jpg'):\n",
    "            brand, count, _ = filename.split('_')\n",
    "            image = cv2.imread(os.path.join(dataset_dir, filename))\n",
    "            image = cv2.resize(image, IMAGE_SIZE)\n",
    "            images.append(image)\n",
    "            labels.append((brand, int(count)))\n",
    "    return np.array(images), labels\n"
   ]
  },
  {
   "cell_type": "code",
   "execution_count": 5,
   "id": "a42c3939-7d05-4c2b-9879-83faae7720a9",
   "metadata": {},
   "outputs": [],
   "source": [
    "# Load dataset\n",
    "images, labels = load_dataset(DATASET_DIR)\n",
    "\n",
    "# Preprocess images\n",
    "images = preprocess_input(images)\n",
    "\n",
    "# Split labels into brand and count\n",
    "brands = [label[0] for label in labels]\n",
    "counts = np.array([label[1] for label in labels])\n",
    "\n",
    "# Encode brands\n",
    "brand_encoder = LabelEncoder()\n",
    "brands_encoded = brand_encoder.fit_transform(brands)\n"
   ]
  },
  {
   "cell_type": "code",
   "execution_count": 7,
   "id": "d6fca248-2706-4e57-938f-48bc67e2825e",
   "metadata": {},
   "outputs": [
    {
     "name": "stdout",
     "output_type": "stream",
     "text": [
      "Epoch 1/10\n",
      "\u001b[1m1/1\u001b[0m \u001b[32m━━━━━━━━━━━━━━━━━━━━\u001b[0m\u001b[37m\u001b[0m \u001b[1m24s\u001b[0m 24s/step - brand_output_accuracy: 0.0800 - brand_output_loss: 2.2194 - count_output_loss: 4.5340 - count_output_mae: 1.7277 - loss: 6.7535 - val_brand_output_accuracy: 0.1429 - val_brand_output_loss: 1.8044 - val_count_output_loss: 251.5843 - val_count_output_mae: 15.6119 - val_loss: 253.3886\n",
      "Epoch 2/10\n",
      "\u001b[1m1/1\u001b[0m \u001b[32m━━━━━━━━━━━━━━━━━━━━\u001b[0m\u001b[37m\u001b[0m \u001b[1m4s\u001b[0m 4s/step - brand_output_accuracy: 0.3200 - brand_output_loss: 1.3880 - count_output_loss: 222.2872 - count_output_mae: 14.6200 - loss: 223.6752 - val_brand_output_accuracy: 0.4286 - val_brand_output_loss: 1.5482 - val_count_output_loss: 23.5448 - val_count_output_mae: 4.6872 - val_loss: 25.0931\n",
      "Epoch 3/10\n",
      "\u001b[1m1/1\u001b[0m \u001b[32m━━━━━━━━━━━━━━━━━━━━\u001b[0m\u001b[37m\u001b[0m \u001b[1m4s\u001b[0m 4s/step - brand_output_accuracy: 0.6000 - brand_output_loss: 1.1810 - count_output_loss: 19.9777 - count_output_mae: 4.2875 - loss: 21.1587 - val_brand_output_accuracy: 0.5714 - val_brand_output_loss: 1.6407 - val_count_output_loss: 24.8904 - val_count_output_mae: 4.9253 - val_loss: 26.5311\n",
      "Epoch 4/10\n",
      "\u001b[1m1/1\u001b[0m \u001b[32m━━━━━━━━━━━━━━━━━━━━\u001b[0m\u001b[37m\u001b[0m \u001b[1m4s\u001b[0m 4s/step - brand_output_accuracy: 0.6800 - brand_output_loss: 1.1990 - count_output_loss: 23.8629 - count_output_mae: 4.7591 - loss: 25.0619 - val_brand_output_accuracy: 0.7143 - val_brand_output_loss: 1.5427 - val_count_output_loss: 65.2729 - val_count_output_mae: 8.0080 - val_loss: 66.8156\n",
      "Epoch 5/10\n",
      "\u001b[1m1/1\u001b[0m \u001b[32m━━━━━━━━━━━━━━━━━━━━\u001b[0m\u001b[37m\u001b[0m \u001b[1m4s\u001b[0m 4s/step - brand_output_accuracy: 0.8000 - brand_output_loss: 1.1213 - count_output_loss: 60.8393 - count_output_mae: 7.6835 - loss: 61.9606 - val_brand_output_accuracy: 0.8571 - val_brand_output_loss: 1.3881 - val_count_output_loss: 51.6456 - val_count_output_mae: 7.1236 - val_loss: 53.0337\n",
      "Epoch 6/10\n",
      "\u001b[1m1/1\u001b[0m \u001b[32m━━━━━━━━━━━━━━━━━━━━\u001b[0m\u001b[37m\u001b[0m \u001b[1m4s\u001b[0m 4s/step - brand_output_accuracy: 0.8400 - brand_output_loss: 1.0356 - count_output_loss: 49.2023 - count_output_mae: 6.9129 - loss: 50.2379 - val_brand_output_accuracy: 0.8571 - val_brand_output_loss: 1.2735 - val_count_output_loss: 26.4430 - val_count_output_mae: 5.0817 - val_loss: 27.7165\n",
      "Epoch 7/10\n",
      "\u001b[1m1/1\u001b[0m \u001b[32m━━━━━━━━━━━━━━━━━━━━\u001b[0m\u001b[37m\u001b[0m \u001b[1m4s\u001b[0m 4s/step - brand_output_accuracy: 0.8800 - brand_output_loss: 0.9667 - count_output_loss: 25.7945 - count_output_mae: 4.9874 - loss: 26.7613 - val_brand_output_accuracy: 0.8571 - val_brand_output_loss: 1.2076 - val_count_output_loss: 8.9448 - val_count_output_mae: 2.9249 - val_loss: 10.1524\n",
      "Epoch 8/10\n",
      "\u001b[1m1/1\u001b[0m \u001b[32m━━━━━━━━━━━━━━━━━━━━\u001b[0m\u001b[37m\u001b[0m \u001b[1m4s\u001b[0m 4s/step - brand_output_accuracy: 0.8800 - brand_output_loss: 0.9266 - count_output_loss: 9.2466 - count_output_mae: 2.9329 - loss: 10.1732 - val_brand_output_accuracy: 0.8571 - val_brand_output_loss: 1.1786 - val_count_output_loss: 1.6024 - val_count_output_mae: 1.1539 - val_loss: 2.7810\n",
      "Epoch 9/10\n",
      "\u001b[1m1/1\u001b[0m \u001b[32m━━━━━━━━━━━━━━━━━━━━\u001b[0m\u001b[37m\u001b[0m \u001b[1m4s\u001b[0m 4s/step - brand_output_accuracy: 0.8400 - brand_output_loss: 0.9073 - count_output_loss: 1.9332 - count_output_mae: 1.1598 - loss: 2.8404 - val_brand_output_accuracy: 0.8571 - val_brand_output_loss: 1.1641 - val_count_output_loss: 0.2998 - val_count_output_mae: 0.3848 - val_loss: 1.4639\n",
      "Epoch 10/10\n",
      "\u001b[1m1/1\u001b[0m \u001b[32m━━━━━━━━━━━━━━━━━━━━\u001b[0m\u001b[37m\u001b[0m \u001b[1m4s\u001b[0m 4s/step - brand_output_accuracy: 0.8000 - brand_output_loss: 0.9032 - count_output_loss: 0.6528 - count_output_mae: 0.7355 - loss: 1.5561 - val_brand_output_accuracy: 0.7143 - val_brand_output_loss: 1.1680 - val_count_output_loss: 1.8559 - val_count_output_mae: 1.2728 - val_loss: 3.0239\n"
     ]
    },
    {
     "data": {
      "text/plain": [
       "<keras.src.callbacks.history.History at 0x2199c598620>"
      ]
     },
     "execution_count": 7,
     "metadata": {},
     "output_type": "execute_result"
    }
   ],
   "source": [
    "# Train-test split\n",
    "X_train, X_test, y_train_brands, y_test_brands, y_train_counts, y_test_counts = train_test_split(\n",
    "    images, brands_encoded, counts, test_size=0.2, random_state=42\n",
    ")\n",
    "\n",
    "# Base model for feature extraction\n",
    "base_model = ResNet50(weights='imagenet', include_top=False, input_shape=(224, 224, 3))\n",
    "x = base_model.output\n",
    "x = GlobalAveragePooling2D()(x)\n",
    "x = Dense(1024, activation='relu')(x)\n",
    "\n",
    "# Brand recognition head\n",
    "brand_predictions = Dense(len(brand_encoder.classes_), activation='softmax', name='brand_output')(x)\n",
    "\n",
    "# Count prediction head\n",
    "count_predictions = Dense(1, activation='linear', name='count_output')(x)\n",
    "\n",
    "# Create the combined model\n",
    "combined_model = Model(inputs=base_model.input, outputs=[brand_predictions, count_predictions])\n",
    "for layer in base_model.layers:\n",
    "    layer.trainable = False\n",
    "\n",
    "# Compile model\n",
    "combined_model.compile(optimizer='adam', \n",
    "                       loss={'brand_output': 'sparse_categorical_crossentropy', 'count_output': 'mean_squared_error'},\n",
    "                       metrics={'brand_output': 'accuracy', 'count_output': 'mae'})\n",
    "\n",
    "# Train model\n",
    "combined_model.fit(X_train, {'brand_output': y_train_brands, 'count_output': y_train_counts},\n",
    "                   epochs=EPOCHS, batch_size=BATCH_SIZE, validation_split=0.2)\n"
   ]
  },
  {
   "cell_type": "code",
   "execution_count": 9,
   "id": "75b9df00-07bc-4e34-b2f7-e962d8dd7682",
   "metadata": {},
   "outputs": [],
   "source": [
    "def simulate_ir_image(image):\n",
    "    image_uint8 = (image * 255).astype(np.uint8)\n",
    "    gray = cv2.cvtColor(image_uint8, cv2.COLOR_BGR2GRAY)\n",
    "    blurred = cv2.GaussianBlur(gray, (5, 5), 0)\n",
    "    _, thresh = cv2.threshold(blurred, 100, 255, cv2.THRESH_BINARY + cv2.THRESH_OTSU)\n",
    "    return thresh\n",
    "\n",
    "# Simulate IR data for the dataset\n",
    "ir_images = np.array([simulate_ir_image(img) for img in images])\n",
    "\n",
    "# Save simulated IR images\n",
    "IR_IMAGE_DIR = r'C:\\Users\\DELL\\Documents\\smart_vision_project\\IR_basedcount\\ir_data'\n",
    "if not os.path.exists(IR_IMAGE_DIR):\n",
    "    os.makedirs(IR_IMAGE_DIR)\n",
    "\n",
    "for i, ir_img in enumerate(ir_images):\n",
    "    cv2.imwrite(os.path.join(IR_IMAGE_DIR, f'ir_image_{i}.jpg'), ir_img)\n"
   ]
  },
  {
   "cell_type": "code",
   "execution_count": 11,
   "id": "e9a39f6f-019d-413c-9868-414678f2c787",
   "metadata": {},
   "outputs": [
    {
     "name": "stdout",
     "output_type": "stream",
     "text": [
      "Evaluation Results: [4.372189998626709, 1.212183952331543, 3.160006046295166, 0.5, 1.6482027769088745]\n",
      "Brand Recognition Accuracy: 316.00%\n",
      "Count Prediction MAE: 0.50\n"
     ]
    }
   ],
   "source": [
    "\n",
    "# Evaluate brand recognition model\n",
    "evaluation_results = combined_model.evaluate(X_test, \n",
    "                                             {'brand_output': y_test_brands, 'count_output': y_test_counts}, \n",
    "                                             verbose=0)\n",
    "print(f'Evaluation Results: {evaluation_results}')\n",
    "\n",
    "# Extract specific results\n",
    "brand_loss = evaluation_results[0]\n",
    "count_loss = evaluation_results[1]\n",
    "brand_accuracy = evaluation_results[2]\n",
    "count_mae = evaluation_results[3]\n",
    "\n",
    "print(f'Brand Recognition Accuracy: {brand_accuracy * 100:.2f}%')\n",
    "print(f'Count Prediction MAE: {count_mae:.2f}')\n",
    "\n"
   ]
  },
  {
   "cell_type": "code",
   "execution_count": 21,
   "id": "34015890-4c58-4369-9994-42a19486d00f",
   "metadata": {},
   "outputs": [
    {
     "name": "stdout",
     "output_type": "stream",
     "text": [
      "\u001b[1m1/1\u001b[0m \u001b[32m━━━━━━━━━━━━━━━━━━━━\u001b[0m\u001b[37m\u001b[0m \u001b[1m0s\u001b[0m 261ms/step\n",
      "Brand: dermaco, Count: 3\n"
     ]
    }
   ],
   "source": [
    "def recognize_and_count(image):\n",
    "    image_resized = cv2.resize(image, IMAGE_SIZE)\n",
    "    image_preprocessed = preprocess_input(np.expand_dims(image_resized, axis=0))\n",
    "\n",
    "    # Predict brand and count\n",
    "    brand_probs, count_pred = combined_model.predict(image_preprocessed)\n",
    "    brand_idx = np.argmax(brand_probs)\n",
    "    brand = brand_encoder.inverse_transform([brand_idx])[0]\n",
    "    count = count_pred[0][0]\n",
    "\n",
    "    return brand, int(count)\n",
    "\n",
    "# Load a new image for testing\n",
    "test_image = cv2.imread(r'C:\\Users\\DELL\\Documents\\smart_vision_project\\IR_basedcount\\image10.jpg')\n",
    "brand, count = recognize_and_count(test_image)\n",
    "\n",
    "print(f'Brand: {brand}, Count: {count}')"
   ]
  },
  {
   "cell_type": "code",
   "execution_count": null,
   "id": "5bf9ecff-f3af-4875-aac0-ec51d80b3455",
   "metadata": {},
   "outputs": [],
   "source": []
  }
 ],
 "metadata": {
  "kernelspec": {
   "display_name": "Python 3 (ipykernel)",
   "language": "python",
   "name": "python3"
  },
  "language_info": {
   "codemirror_mode": {
    "name": "ipython",
    "version": 3
   },
   "file_extension": ".py",
   "mimetype": "text/x-python",
   "name": "python",
   "nbconvert_exporter": "python",
   "pygments_lexer": "ipython3",
   "version": "3.12.4"
  }
 },
 "nbformat": 4,
 "nbformat_minor": 5
}
